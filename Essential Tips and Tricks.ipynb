{
 "cells": [
  {
   "cell_type": "markdown",
   "metadata": {},
   "source": [
    "\n",
    "Printed Version by Addison-Wesley\n",
    "___\n",
    "\n",
    "<mark>Marked text</mark>\n",
    "\n",
    "<ins>**under**</ins>"
   ]
  },
  {
   "cell_type": "code",
   "execution_count": null,
   "metadata": {},
   "outputs": [],
   "source": []
  },
  {
   "cell_type": "markdown",
   "metadata": {},
   "source": [
    "# Essential Tips and Tricks\n",
    "\n",
    "#### <ins>**What you will learn**</ins>: \n",
    "In-house tips and tricks that I learned (googled) that will be useful in making the DNAMIC boxes. \n",
    "\n",
    "____\n",
    "### Introduction\n",
    "\n",
    "Every engineer requires good tools and best practices to survive. They not only make the job much easier, but more importantly, they allow the engineer to be highly accurate and consistent. For example, imagine having to solder on something **WITHOUT** a soldering iron. How in the world would you do that?! I’m not an engineer myself but I’m going to share with you few essential tips and tricks that I learned (googled) along my Arduino journey that helped me finish the project and save me weeks of trouble. I’m hoping you’ll find these tips useful as well. \n",
    "\n"
   ]
  },
  {
   "cell_type": "code",
   "execution_count": null,
   "metadata": {},
   "outputs": [],
   "source": []
  },
  {
   "cell_type": "markdown",
   "metadata": {},
   "source": [
    "### 1. Multimeter\n",
    "\n",
    "Multimeters are by far the most useful and most important debugging tool you’ll have while finishing this project (or any electrical engineering project). If you don’t have one at hand, stop reading this right now and order one on Amazon. Seriously. It’s that important. [Amazon Link to Multimeter](https://www.amazon.com/AstroAI-Digital-Multimeter-Voltage-Tester/dp/B01ISAMUA6/ref=sr_1_1_sspa?keywords=multimeter&qid=1571619926&sr=8-1-spons&psc=1&spLa=ZW5jcnlwdGVkUXVhbGlmaWVyPUFINUcyVlJPTUk2S0gmZW5jcnlwdGVkSWQ9QTA4NTQ4Mzg1U0pNUlYxREUzN0QmZW5jcnlwdGVkQWRJZD1BMDAzNzc5MTNNMU05T1dXRVhWMEQmd2lkZ2V0TmFtZT1zcF9hdGYmYWN0aW9uPWNsaWNrUmVkaXJlY3QmZG9Ob3RMb2dDbGljaz10cnVl)\n",
    "\n",
    "Multimeters can measure a lot of things including continuity, resistance, voltage, current, capacitance etc. But the most useful functionality (in my opinion) is the continuity / diode testing mode. This functionality allows you to check if a diode is working or not (which has directionality), and whether two points in a circuit are electrically connected or not. The multimeter will beep (output of a piezo buzzer) if the two points are connected and will light up the LED if the cathode is connected to GND and anode is connected to PWR. But always remember to turn the knob to continuity / diode testing mode before testing anything! Otherwise the multimeter would be powered off… \n",
    "\n",
    "\n"
   ]
  },
  {
   "cell_type": "code",
   "execution_count": null,
   "metadata": {},
   "outputs": [],
   "source": []
  },
  {
   "cell_type": "code",
   "execution_count": 8,
   "metadata": {},
   "outputs": [
    {
     "data": {
      "application/vnd.jupyter.widget-view+json": {
       "model_id": "2eca89f923bc4671b67df66c7f04cd26",
       "version_major": 2,
       "version_minor": 0
      },
      "text/plain": [
       "Box(children=(Button(button_style='danger', description='correct', layout=Layout(width='auto'), style=ButtonSt…"
      ]
     },
     "metadata": {},
     "output_type": "display_data"
    }
   ],
   "source": [
    "from ipywidgets import Layout, Button, Box\n",
    "\n",
    "items_layout = Layout( width='auto')     # override the default width of the button to 'auto' to let the button grow\n",
    "\n",
    "box_layout = Layout(display='flex',\n",
    "                    flex_flow='column',\n",
    "                    align_items='stretch',\n",
    "                    border='solid',\n",
    "                    width='20%')\n",
    "\n",
    "words = ['correct', 'horse', 'battery', 'staple']\n",
    "items = [Button(description=word, layout=items_layout, button_style='danger') for word in words]\n",
    "box = Box(children=items, layout=box_layout)\n",
    "box"
   ]
  },
  {
   "cell_type": "code",
   "execution_count": 10,
   "metadata": {},
   "outputs": [
    {
     "ename": "SyntaxError",
     "evalue": "invalid syntax (<ipython-input-10-e87aa132b113>, line 1)",
     "output_type": "error",
     "traceback": [
      "\u001b[0;36m  File \u001b[0;32m\"<ipython-input-10-e87aa132b113>\"\u001b[0;36m, line \u001b[0;32m1\u001b[0m\n\u001b[0;31m    .item-d {\u001b[0m\n\u001b[0m    ^\u001b[0m\n\u001b[0;31mSyntaxError\u001b[0m\u001b[0;31m:\u001b[0m invalid syntax\n"
     ]
    }
   ],
   "source": [
    ".item-d {\n",
    "  grid-area: 1 / col4-start / last-line / 6\n",
    "}"
   ]
  },
  {
   "cell_type": "code",
   "execution_count": null,
   "metadata": {},
   "outputs": [],
   "source": []
  },
  {
   "cell_type": "markdown",
   "metadata": {},
   "source": [
    "<div style=\"float: left; margin-right: 10px;\">\n",
    "    <img title=\"multimeter\" style=\"float: left; margin-left: 5px; border:solid 2px; display:flex\" src=\"imgs/multimeter.png\" align=\"center\" width=\"200\"/>\n",
    "</div>\n",
    "\n",
    "Sample text to test timeSample text to test timeSample text to test timeSample text to test timeSample text to test timeSample text to test timeSample text to test timeSample text to test timeSample text to test timeSample text to test timeSample text to test timeSample text to test timeSample text to test timeSample text to test timeSample text to test timeSample text to test timeSample text to test timeSample text to test timeSample text to test timeSample text to test timeSample text to test timee text to test timeSample text to test timeSample text to test timeSample text to test timeSample text to test timee text to test timeSample text to test timeSample text to test timeSample text to test timeSample text to test timee text to test timeSample text to test timeSample text to test timeSample text to test timeSample text to test timee text to test timeSample text to test timeSample text to test timeSample text to test timeSample text to test timee text to test timeSample text to test timeSample text to test timeSample text to test timeSample text to test timee text to test timeSample text to test timeSample text to test timeSample text to test timeSample text to test timee text to test timeSample text to test timeSample text to test timeSample text to test timeSample text to test timee text to test timeSample text to test timeSample text to test timeSample text to test timeSample text to test timee text to test timeSample text to test timeSample text to test timeSample text to test timeSample text to test timee text to test timeSample text to test timeSample text to test timeSample text to test timeSample text to test timee text to test timeSample text to test timeSample text to test timeSample text to test timeSample text to test timee text to test timeSample text to test timeSample text to test timeSample text to test timeSample text to test timee text to test timeSample text to test timeSample text to test timeSample text to test timeSample text to test time\n",
    "\n",
    "<div style=\"float: center; margin-right: 30px; margin-top: 500px\">\n",
    "<img src=\"imgs/multimeter.png\" style=\"float: center; border: solid 2px\" width=\"200\"/>  \n",
    "</div>\n"
   ]
  },
  {
   "cell_type": "markdown",
   "metadata": {},
   "source": [
    "> Figure 1: Continuity test mode shown on the multimeter (white circle). The value on the display indicate the resistance value. Value “1” signifies that it’s an open loop. "
   ]
  },
  {
   "cell_type": "code",
   "execution_count": null,
   "metadata": {},
   "outputs": [],
   "source": []
  },
  {
   "cell_type": "markdown",
   "metadata": {},
   "source": [
    "Printed Version by Addison-Wesley\n",
    "------\n",
    "<div style=\"float: right; margin-left: 30px;\"><img title=\"Bayesian Methods for Hackersg\"style=\"float: right; margin-left: 30px; width:100px\" src=\"http://www-fp.pearsonhighered.com/assets/hip/images/bigcovers/0133902838.jpg\" align=right height = 100 /></div>\n",
    "\n",
    "**Bayesian Methods for Hackers is now available as a printed book!** You can pick up a copy on [Amazon](http://www.amazon.com/Bayesian-Methods-Hackers-Probabilistic-Addison-Wesley/dp/0133902838). What are the differences between the online version and the printed version?\n",
    "\n",
    " - Additional Chapter on Bayesian A/B testing\n",
    " - Updated examples\n",
    " - Answers to the end of chapter questions\n",
    " - Additional explanation, and rewritten sections to aid the reader. \n",
    "\n"
   ]
  },
  {
   "cell_type": "markdown",
   "metadata": {},
   "source": [
    "<figure>\n",
    "    <img src=\"imgs/multimeter.png\"\n",
    "         alt=\"Elephant at sunset\">\n",
    "    <figcaption>An elephant at sunset</figcaption>\n",
    "</figure>"
   ]
  }
 ],
 "metadata": {
  "kernelspec": {
   "display_name": "Python 3",
   "language": "python",
   "name": "python3"
  },
  "language_info": {
   "codemirror_mode": {
    "name": "ipython",
    "version": 3
   },
   "file_extension": ".py",
   "mimetype": "text/x-python",
   "name": "python",
   "nbconvert_exporter": "python",
   "pygments_lexer": "ipython3",
   "version": "3.6.8"
  }
 },
 "nbformat": 4,
 "nbformat_minor": 2
}
