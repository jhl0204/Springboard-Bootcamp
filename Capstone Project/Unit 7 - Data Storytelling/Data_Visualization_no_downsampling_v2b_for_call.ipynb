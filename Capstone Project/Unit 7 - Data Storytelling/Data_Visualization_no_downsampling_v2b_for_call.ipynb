{
 "cells": [
  {
   "cell_type": "markdown",
   "metadata": {},
   "source": [
    "<a id='Top'></a>\n",
    "\n",
    "# Data Storytelling\n",
    "\n",
    "\n",
    "                                                   By: Jun Ho Lee\n",
    "                                                   \n",
    "___\n"
   ]
  },
  {
   "cell_type": "markdown",
   "metadata": {},
   "source": [
    "**NOTE**: NOT GOING TO USE PLOTLY + ipywidgets because they are not rendered online!\n",
    "\n",
    "References: \n",
    "\n",
    "[Datacamp H1B_Dataset Example](https://www.datacamp.com/community/tutorials/predicting-H-1B-visa-status-python)  \n",
    "[H1B Wage Distribution - Kaggle](https://www.kaggle.com/javidimail/h-1b-wage-distribution)  \n",
    "[H1B Project - Independent Website](https://webpages.uncc.edu/sshinde5/)"
   ]
  },
  {
   "cell_type": "markdown",
   "metadata": {},
   "source": [
    "<a id='Table of Contents'></a>\n",
    "## Table of Contents\n",
    "\n",
    "1. <a href='#Import Dataset'>Importing the Cleaned Dataset</a>\n",
    "2. <a href='#Interactivity Introduction'>Introducing Interactivity with Plotly</a>\n",
    "\n",
    "\n",
    "<a href='#Top'>Back to Top</a>"
   ]
  },
  {
   "cell_type": "markdown",
   "metadata": {},
   "source": [
    "<a id='Import Dataset'></a>\n",
    "____\n",
    "### 1. Importing the Cleaned Dataset\n",
    "\n",
    "Using the cleaned parameters saved in JSON format, we will load in the cleaned dataset that was saved from the previous notebook. \n"
   ]
  },
  {
   "cell_type": "markdown",
   "metadata": {},
   "source": [
    "\n",
    "**A. Import Necessary Libraries:**\n"
   ]
  },
  {
   "cell_type": "code",
   "execution_count": 10,
   "metadata": {},
   "outputs": [],
   "source": [
    "import math\n",
    "import itertools\n",
    "from collections import Counter\n",
    "import numpy as np\n",
    "import pandas as pd\n",
    "import scipy.stats as ss\n",
    "import json\n",
    "import matplotlib.pyplot as plt\n",
    "import seaborn as sns\n",
    "# # set option to see all the columns\n",
    "pd.set_option('display.max_columns', 50)\n",
    "\n",
    "# # suppress scientific notation\n",
    "pd.set_option('display.float_format', lambda x: '%.5f' % x)\n"
   ]
  },
  {
   "cell_type": "markdown",
   "metadata": {},
   "source": [
    "**B. Read in JSON file to extract parameters:**"
   ]
  },
  {
   "cell_type": "code",
   "execution_count": 2,
   "metadata": {},
   "outputs": [],
   "source": [
    "# Import JSON file for column information extraction \n",
    "\n",
    "with open('../data/H-1B_Feature_Creation_Cleaned_Params.json', 'r') as fp:\n",
    "    h1b_params = json.load(fp)\n",
    "\n",
    "final_cols = h1b_params['final_cols']\n",
    "column_types = h1b_params['col_types']\n",
    "date_columns = h1b_params['date_cols']"
   ]
  },
  {
   "cell_type": "markdown",
   "metadata": {},
   "source": [
    "**C. Read in csv file**"
   ]
  },
  {
   "cell_type": "code",
   "execution_count": 3,
   "metadata": {},
   "outputs": [],
   "source": [
    "h1b_df = pd.read_csv(\"../data/H-1B_Feature_Creation_Clean.csv\", usecols = final_cols, dtype=column_types, low_memory=False, parse_dates=date_columns, infer_datetime_format=True)"
   ]
  },
  {
   "cell_type": "markdown",
   "metadata": {},
   "source": [
    "**D. Verify Memory Usage and column data types**"
   ]
  },
  {
   "cell_type": "code",
   "execution_count": 4,
   "metadata": {},
   "outputs": [],
   "source": [
    "# # Memory Usage \n",
    "# h1b_df.info(memory_usage='deep')\n",
    "\n",
    "# # Columns\n",
    "# h1b_df.columns\n",
    "\n",
    "# # Column dtypes\n",
    "# h1b_df.dtypes"
   ]
  },
  {
   "cell_type": "markdown",
   "metadata": {},
   "source": [
    "<a href='#Table of Contents'>Back to Table of Contents</a>"
   ]
  },
  {
   "cell_type": "markdown",
   "metadata": {},
   "source": [
    "<a id='Introduction'></a>\n",
    "____\n",
    "### 1. Introduction\n",
    "\n",
    "Our final objective for this project is to correctly predict the `CASE_STATUS` of the applicant, making this project a classification problem. Thus `CASE_STATUS` will be our target variable and all other columns will be our feature variables. Currently there are 22 total columns in the dataset, leaving 21 feature variables for this dataset. There are however columns with redundant information (ex: `EMPLOYER_POSTAL_CODE` and `EMPLOYER_STATE_MAPPED`) and columns derived from other columns (ex: `PW_YEARLY_CONVERTED` from `PREVAILING_WAGE`). Thus feature engineering is necessary. \n",
    "\n",
    "As a first step however, I will investigate the distribution of our target variable: `CASE_STATUS`.\n",
    "\n"
   ]
  },
  {
   "cell_type": "markdown",
   "metadata": {},
   "source": [
    "**- Pie Chart of Different Case Statuses**"
   ]
  },
  {
   "cell_type": "code",
   "execution_count": 5,
   "metadata": {},
   "outputs": [
    {
     "data": {
      "image/png": "[encoded data removed]",
      "text/plain": [
       "<Figure size 432x288 with 1 Axes>"
      ]
     },
     "metadata": {},
     "output_type": "display_data"
    }
   ],
   "source": [
    "pie_chart_norm = h1b_df.CASE_STATUS.value_counts(normalize=True)\n",
    "pie_chart_counts = h1b_df.CASE_STATUS.value_counts()\n",
    "\n",
    "# # Pie Chart Plotting\n",
    "fig, ax = plt.subplots()  # always use object oriented approach for plotting! \n",
    "                          # By default, plt.subplots(nrows=1, ncols=1)\n",
    "\n",
    "explode = (0.1, 0, 0, 0)  # offset the first pie\n",
    "ax.pie(pie_chart_norm, labels=pie_chart_norm.index, explode=explode, autopct='%1.2f%%')\n",
    "ax.axis('equal') \n",
    "plt.show()"
   ]
  },
  {
   "cell_type": "markdown",
   "metadata": {},
   "source": [
    "References:   \n",
    "[Axes.pie - plt docs](https://matplotlib.org/3.1.1/api/_as_gen/matplotlib.axes.Axes.pie.html)  \n",
    "[Basic Pie Chart - plt demo](https://matplotlib.org/3.1.1/gallery/pie_and_polar_charts/pie_features.html#sphx-glr-gallery-pie-and-polar-charts-pie-features-py)  \n"
   ]
  },
  {
   "cell_type": "markdown",
   "metadata": {},
   "source": [
    "Currently there are four different classes: \n",
    "\n",
    "1. CERTIFIED \n",
    "2. CERTIFIED-WITHDRAWN \n",
    "3. WITHDRAWN\n",
    "4. DENIED \n",
    "\n",
    "and it looks like the data is heavily imbalanced, with Certified applicants taking up more than 85% of the whole dataset. However we are only interested in whether the applicant was certified or denied. So let's drop rows with `CERTIFIED-WITHDRAWN` or `WITHDRAWN`, making this classification a binary problem. This will make the dataset more imbalanced but we will be downsampling accordingly at the machine learning stage. "
   ]
  },
  {
   "cell_type": "markdown",
   "metadata": {},
   "source": [
    "**- Drop withdrawn / certified-withdrawn classes and make a new pie chart**"
   ]
  },
  {
   "cell_type": "code",
   "execution_count": 6,
   "metadata": {},
   "outputs": [],
   "source": [
    "# # Make a copy of the original dataframe first (data_viz)\n",
    "h1b_dviz = h1b_df.copy()\n",
    "\n",
    "# # Change dtype (for CASE_STATUS only) to string because working with categoricals is hard\n",
    "h1b_dviz['CASE_STATUS'] = h1b_dviz.CASE_STATUS.astype(str)"
   ]
  },
  {
   "cell_type": "code",
   "execution_count": 7,
   "metadata": {},
   "outputs": [],
   "source": [
    "# # Drop the rows by index and reset index\n",
    "wd_idx = h1b_dviz[h1b_dviz.CASE_STATUS == 'WITHDRAWN'].index\n",
    "cert_wd_idx = h1b_dviz[h1b_dviz.CASE_STATUS == 'CERTIFIED-WITHDRAWN'].index\n",
    "drop_idx = list(wd_idx) + list(cert_wd_idx)\n",
    "h1b_dviz = h1b_dviz.drop(drop_idx)\n",
    "h1b_dviz_clean = h1b_dviz.reset_index(drop=True)"
   ]
  },
  {
   "cell_type": "code",
   "execution_count": 8,
   "metadata": {},
   "outputs": [
    {
     "data": {
      "image/png": "[encoded data removed]",
      "text/plain": [
       "<Figure size 432x288 with 1 Axes>"
      ]
     },
     "metadata": {},
     "output_type": "display_data"
    }
   ],
   "source": [
    "# # Making Pie Chart from the modified dataframe\n",
    "ml_pie_chart_norm = h1b_dviz_clean.CASE_STATUS.value_counts(normalize=True)\n",
    "ml_pie_chart_counts = h1b_dviz_clean.CASE_STATUS.value_counts()\n",
    "\n",
    "# # Pie Chart Plotting\n",
    "fig, ax = plt.subplots()  # always use object oriented approach for plotting! \n",
    "                          # By default, plt.subplots(nrows=1, ncols=1)\n",
    "\n",
    "explode = (0, 0.5)  # offset the first pie\n",
    "ax.pie(ml_pie_chart_norm, labels=ml_pie_chart_norm.index, explode=explode, autopct='%1.2f%%')\n",
    "ax.axis('equal') \n",
    "plt.show()"
   ]
  },
  {
   "cell_type": "markdown",
   "metadata": {},
   "source": [
    "Although the percentage of `CERTIFIED` class increased significantly, the `DENIED` class also rose a little bit - from 1.10% to 1.22%. The dataset however is still very imbalanced. "
   ]
  },
  {
   "cell_type": "markdown",
   "metadata": {},
   "source": [
    "<a id='Feature Creation'></a>\n",
    "____\n",
    "### 2. Feature Selection / Creation\n",
    "\n",
    "For machine learning algorithms to perform well and be generalizable, a single feature shouldn't have too may factors. Using ***ipywidgets*** interactivity feature, we will quickly look through each categorical column to see how many *unique* values each column (feature) has and the *value_counts* of that column.\n",
    "\n",
    "- Already did this step in Unit 5.5 (Feature Selection) \n"
   ]
  },
  {
   "cell_type": "markdown",
   "metadata": {},
   "source": [
    "<a href='#Table of Contents'>Back to Table of Contents</a>"
   ]
  },
  {
   "cell_type": "markdown",
   "metadata": {},
   "source": [
    "### 3 Downsampling the data "
   ]
  },
  {
   "cell_type": "code",
   "execution_count": 11,
   "metadata": {},
   "outputs": [],
   "source": [
    "certified_df = h1b_dviz_clean[h1b_dviz_clean.CASE_STATUS == 'CERTIFIED']\n",
    "denied_df = h1b_dviz_clean[h1b_dviz_clean.CASE_STATUS == 'DENIED']"
   ]
  },
  {
   "cell_type": "code",
   "execution_count": 12,
   "metadata": {},
   "outputs": [
    {
     "name": "stdout",
     "output_type": "stream",
     "text": [
      "(547402, 22)\n",
      "(6787, 22)\n"
     ]
    }
   ],
   "source": [
    "print(certified_df.shape)\n",
    "print(denied_df.shape)"
   ]
  },
  {
   "cell_type": "code",
   "execution_count": 14,
   "metadata": {},
   "outputs": [
    {
     "data": {
      "text/plain": [
       "(6787, 22)"
      ]
     },
     "execution_count": 14,
     "metadata": {},
     "output_type": "execute_result"
    }
   ],
   "source": [
    "sample_certified = certified_df.sample(n=6787, random_state=1)\n",
    "sample_certified.shape"
   ]
  },
  {
   "cell_type": "code",
   "execution_count": 15,
   "metadata": {},
   "outputs": [
    {
     "data": {
      "text/plain": [
       "(13574, 22)"
      ]
     },
     "execution_count": 15,
     "metadata": {},
     "output_type": "execute_result"
    }
   ],
   "source": [
    "combined_total = pd.concat([sample_certified, denied_df])\n",
    "combined_total.shape"
   ]
  },
  {
   "cell_type": "code",
   "execution_count": 17,
   "metadata": {},
   "outputs": [
    {
     "data": {
      "text/plain": [
       "Text(0.5, 1.0, 'Data Distribution after Downsampling')"
      ]
     },
     "execution_count": 17,
     "metadata": {},
     "output_type": "execute_result"
    },
    {
     "data": {
      "image/png": "[encoded data removed]",
      "text/plain": [
       "<Figure size 432x288 with 1 Axes>"
      ]
     },
     "metadata": {
      "needs_background": "light"
     },
     "output_type": "display_data"
    }
   ],
   "source": [
    "sns.countplot(x='CASE_STATUS', data=combined_total)\n",
    "plt.title(\"Data Distribution after Downsampling\")"
   ]
  },
  {
   "cell_type": "markdown",
   "metadata": {},
   "source": [
    "<a id='Theils U'></a>\n",
    "____\n",
    "### 3. Cramers'V to find the correlation across categorical variables \n",
    "\n",
    "[Source: Kaggle Kernel (by shakedzy)](https://www.kaggle.com/shakedzy/alone-in-the-woods-using-theil-s-u-for-survival)\n"
   ]
  },
  {
   "cell_type": "markdown",
   "metadata": {},
   "source": [
    "### Cramers V"
   ]
  },
  {
   "cell_type": "code",
   "execution_count": 18,
   "metadata": {},
   "outputs": [],
   "source": [
    "def cramers_v(x, y):\n",
    "    confusion_matrix = pd.crosstab(x,y)\n",
    "    chi2 = ss.chi2_contingency(confusion_matrix)[0]\n",
    "    n = confusion_matrix.sum().sum()\n",
    "    phi2 = chi2/n\n",
    "    r,k = confusion_matrix.shape\n",
    "    phi2corr = max(0, phi2-((k-1)*(r-1))/(n-1))\n",
    "    rcorr = r-((r-1)**2)/(n-1)\n",
    "    kcorr = k-((k-1)**2)/(n-1)\n",
    "    return np.sqrt(phi2corr/min((kcorr-1),(rcorr-1)))"
   ]
  },
  {
   "cell_type": "code",
   "execution_count": null,
   "metadata": {},
   "outputs": [],
   "source": []
  },
  {
   "cell_type": "markdown",
   "metadata": {},
   "source": [
    "#### Using the downsampled dataset"
   ]
  },
  {
   "cell_type": "code",
   "execution_count": 20,
   "metadata": {},
   "outputs": [],
   "source": [
    "cols_final = ['CASE_STATUS',\n",
    " 'VISA_CLASS',\n",
    " 'EMPLOYER_STATE_MAPPED',\n",
    " 'AGENT_REPRESENTING_EMPLOYER',\n",
    " 'FULL_TIME_POSITION',\n",
    " 'PW_UNIT_OF_PAY',\n",
    " 'PW_WAGE_LEVEL',\n",
    " 'WAGE_UNIT_OF_PAY',\n",
    " 'H1B_DEPENDENT',\n",
    " 'WILLFUL_VIOLATOR',\n",
    " 'WORKSITE_STATE',\n",
    " 'SOC_MAJOR_GROUP',\n",
    " 'NAICS_BROAD']"
   ]
  },
  {
   "cell_type": "code",
   "execution_count": 21,
   "metadata": {},
   "outputs": [
    {
     "data": {
      "image/png": "[encoded data removed]",
      "text/plain": [
       "<Figure size 504x432 with 2 Axes>"
      ]
     },
     "metadata": {
      "needs_background": "light"
     },
     "output_type": "display_data"
    }
   ],
   "source": [
    "cols = cols_final\n",
    "\n",
    "corrM = np.ones((len(cols),len(cols)))\n",
    "for col1, col2 in itertools.combinations(cols, 2):\n",
    "    idx1, idx2 = cols.index(col1), cols.index(col2)\n",
    "    corrM[idx1, idx2] = cramers_v(combined_total[col1], combined_total[col2])\n",
    "    corrM[idx2, idx1] = corrM[idx1, idx2]\n",
    "\n",
    "corr = pd.DataFrame(corrM, index=cols, columns=cols)\n",
    "fig, ax = plt.subplots(figsize=(7, 6))\n",
    "ax = sns.heatmap(corr, annot=True, ax=ax); ax.set_title(\"Cramer's V Correlation between Variables\");"
   ]
  },
  {
   "cell_type": "markdown",
   "metadata": {},
   "source": [
    "Looks like `CASE_STATUS` target is correlated with `VISA_CLASS` / `EMPLOYER_STATE` / `H1B_DEPENDENT` / `SOC_MAJOR_GROUP` / `NAICS_BROAD` columns"
   ]
  },
  {
   "cell_type": "code",
   "execution_count": null,
   "metadata": {},
   "outputs": [],
   "source": []
  },
  {
   "cell_type": "markdown",
   "metadata": {},
   "source": [
    "### VISA CLASS vs CASE_STATUS "
   ]
  },
  {
   "cell_type": "code",
   "execution_count": 80,
   "metadata": {},
   "outputs": [
    {
     "data": {
      "image/png": "[encoded data removed]",
      "text/plain": [
       "<Figure size 576x432 with 1 Axes>"
      ]
     },
     "metadata": {
      "needs_background": "light"
     },
     "output_type": "display_data"
    }
   ],
   "source": [
    "\n",
    "# # Showing only the top 15! (with order=)\n",
    "fig, ax = plt.subplots(figsize=(8, 6))\n",
    "ax = sns.countplot(y=\"VISA_CLASS\", hue=\"CASE_STATUS\", data=combined_total)\n",
    "# ax.set_xticklabels(ax.get_xticklabels(), rotation=90)\n",
    "plt.show()"
   ]
  },
  {
   "cell_type": "markdown",
   "metadata": {},
   "source": [
    "### EMPLOYER_STATE vs CASE_STATUS \n",
    "- top 15 states by number of total submissions "
   ]
  },
  {
   "cell_type": "code",
   "execution_count": 23,
   "metadata": {},
   "outputs": [
    {
     "data": {
      "image/png": "[encoded data removed]",
      "text/plain": [
       "<Figure size 720x576 with 1 Axes>"
      ]
     },
     "metadata": {
      "needs_background": "light"
     },
     "output_type": "display_data"
    }
   ],
   "source": [
    "\n",
    "# # Showing only the top 15! (with order=)\n",
    "fig, ax = plt.subplots(figsize=(10, 8))\n",
    "ax = sns.countplot(y=\"EMPLOYER_STATE_MAPPED\", hue=\"CASE_STATUS\", order=combined_total.EMPLOYER_STATE_MAPPED.value_counts().iloc[:15].index, data=combined_total)\n",
    "# ax.set_xticklabels(ax.get_xticklabels(), rotation=90)\n",
    "plt.show()"
   ]
  },
  {
   "cell_type": "markdown",
   "metadata": {},
   "source": [
    "### EMPLOYER_STATE vs CASE_STATUS \n",
    "- bottom 15 states by number of total submissions \n",
    "- notice the axis range! (very small) "
   ]
  },
  {
   "cell_type": "code",
   "execution_count": 28,
   "metadata": {},
   "outputs": [
    {
     "data": {
      "image/png": "[encoded data removed]",
      "text/plain": [
       "<Figure size 720x576 with 1 Axes>"
      ]
     },
     "metadata": {
      "needs_background": "light"
     },
     "output_type": "display_data"
    }
   ],
   "source": [
    "\n",
    "# # Showing only the top 15! (with order=)\n",
    "fig, ax = plt.subplots(figsize=(10, 8))\n",
    "ax = sns.countplot(y=\"EMPLOYER_STATE_MAPPED\", hue=\"CASE_STATUS\", order=combined_total.EMPLOYER_STATE_MAPPED.value_counts().iloc[-15:].index, data=combined_total)\n",
    "# ax.set_xticklabels(ax.get_xticklabels(), rotation=90)\n",
    "plt.show()"
   ]
  },
  {
   "cell_type": "markdown",
   "metadata": {},
   "source": [
    "### SOC_MAJOR_GROUP vs CASE_STATUS \n",
    "\n",
    "- top 12"
   ]
  },
  {
   "cell_type": "code",
   "execution_count": 77,
   "metadata": {},
   "outputs": [
    {
     "data": {
      "image/png": "[encoded data removed]",
      "text/plain": [
       "<Figure size 720x576 with 1 Axes>"
      ]
     },
     "metadata": {
      "needs_background": "light"
     },
     "output_type": "display_data"
    }
   ],
   "source": [
    "# # Plotting the top 12\n",
    "fig, ax = plt.subplots(figsize=(10, 8))\n",
    "ax = sns.countplot(y=\"SOC_MAJOR_GROUP\", hue=\"CASE_STATUS\", order=combined_total.SOC_MAJOR_GROUP.value_counts().iloc[:12].index, data=combined_total)\n",
    "ax.legend(loc='lower right')\n",
    "plt.show()"
   ]
  },
  {
   "cell_type": "markdown",
   "metadata": {},
   "source": [
    "#### Remaining (13 groups)"
   ]
  },
  {
   "cell_type": "code",
   "execution_count": 78,
   "metadata": {},
   "outputs": [
    {
     "data": {
      "image/png": "[encoded data removed]",
      "text/plain": [
       "<Figure size 720x576 with 1 Axes>"
      ]
     },
     "metadata": {
      "needs_background": "light"
     },
     "output_type": "display_data"
    }
   ],
   "source": [
    "# # Plotting the remaining\n",
    "fig, ax = plt.subplots(figsize=(10, 8))\n",
    "ax = sns.countplot(y=\"SOC_MAJOR_GROUP\", hue=\"CASE_STATUS\", order=combined_total.SOC_MAJOR_GROUP.value_counts().iloc[12:].index, data=combined_total)\n",
    "ax.legend(loc='lower right')\n",
    "plt.show()"
   ]
  },
  {
   "cell_type": "code",
   "execution_count": null,
   "metadata": {},
   "outputs": [],
   "source": []
  },
  {
   "cell_type": "markdown",
   "metadata": {},
   "source": [
    "### H1B_DEPENDENT vs CASE_STATUS \n"
   ]
  },
  {
   "cell_type": "code",
   "execution_count": 29,
   "metadata": {},
   "outputs": [
    {
     "data": {
      "image/png": "[encoded data removed]",
      "text/plain": [
       "<Figure size 576x432 with 1 Axes>"
      ]
     },
     "metadata": {
      "needs_background": "light"
     },
     "output_type": "display_data"
    }
   ],
   "source": [
    "\n",
    "# # Showing only the top 15! (with order=)\n",
    "fig, ax = plt.subplots(figsize=(8, 6))\n",
    "ax = sns.countplot(y=\"H1B_DEPENDENT\", hue=\"CASE_STATUS\", data=combined_total)\n",
    "# ax.set_xticklabels(ax.get_xticklabels(), rotation=90)\n",
    "plt.show()"
   ]
  },
  {
   "cell_type": "markdown",
   "metadata": {},
   "source": [
    "### UNIT_OF_PAY vs CASE_STATUS \n"
   ]
  },
  {
   "cell_type": "code",
   "execution_count": 30,
   "metadata": {},
   "outputs": [
    {
     "data": {
      "image/png": "[encoded data removed]",
      "text/plain": [
       "<Figure size 576x432 with 1 Axes>"
      ]
     },
     "metadata": {
      "needs_background": "light"
     },
     "output_type": "display_data"
    }
   ],
   "source": [
    "\n",
    "fig, ax = plt.subplots(figsize=(8, 6))\n",
    "ax = sns.countplot(y=\"PW_UNIT_OF_PAY\", hue=\"CASE_STATUS\", data=combined_total)\n",
    "# ax.set_xticklabels(ax.get_xticklabels(), rotation=90)\n",
    "plt.show()"
   ]
  },
  {
   "cell_type": "code",
   "execution_count": null,
   "metadata": {},
   "outputs": [],
   "source": []
  },
  {
   "cell_type": "code",
   "execution_count": null,
   "metadata": {},
   "outputs": [],
   "source": []
  },
  {
   "cell_type": "code",
   "execution_count": null,
   "metadata": {},
   "outputs": [],
   "source": []
  },
  {
   "cell_type": "code",
   "execution_count": null,
   "metadata": {},
   "outputs": [],
   "source": []
  },
  {
   "cell_type": "code",
   "execution_count": null,
   "metadata": {},
   "outputs": [],
   "source": []
  },
  {
   "cell_type": "code",
   "execution_count": null,
   "metadata": {},
   "outputs": [],
   "source": []
  },
  {
   "cell_type": "code",
   "execution_count": null,
   "metadata": {},
   "outputs": [],
   "source": []
  },
  {
   "cell_type": "code",
   "execution_count": null,
   "metadata": {},
   "outputs": [],
   "source": []
  },
  {
   "cell_type": "code",
   "execution_count": null,
   "metadata": {},
   "outputs": [],
   "source": []
  },
  {
   "cell_type": "code",
   "execution_count": null,
   "metadata": {},
   "outputs": [],
   "source": []
  },
  {
   "cell_type": "code",
   "execution_count": null,
   "metadata": {},
   "outputs": [],
   "source": []
  },
  {
   "cell_type": "markdown",
   "metadata": {},
   "source": [
    "### University Names  + Categorizing by Employer Names \n",
    "\n",
    "1. Academia (contains -> university)\n",
    "2. FANG Companies (Facebook / Apple / Netflix / Google / Microsoft / Amazon (Big Tech Companies) \n",
    "3. Consulting Companies (Deloitte / BCG etc.) \n",
    "4. Finance Companies (Goldman / Citi group etc.) \n",
    "5. Accounting Firms (Pricewaterhousecooper?)\n",
    "6. Infosys Limited etc. (companies that show up on the top 10) \n",
    "7.\n",
    "8. explore more! etc.\n"
   ]
  },
  {
   "cell_type": "code",
   "execution_count": null,
   "metadata": {},
   "outputs": [],
   "source": [
    "h1b_dviz['EMPLOYER_NAME'] = h1b_dviz['EMPLOYER_NAME'].str.lower()\n",
    "b =  np.where(h1b_dviz['EMPLOYER_NAME'].str.contains('university'))\n",
    "len(h1b_dviz.iloc[b].EMPLOYER_NAME.unique())"
   ]
  },
  {
   "cell_type": "markdown",
   "metadata": {},
   "source": [
    "944 unique universities can be categorized into one field! (academia) "
   ]
  },
  {
   "cell_type": "code",
   "execution_count": null,
   "metadata": {},
   "outputs": [],
   "source": [
    "# llp_group = np.where(h1b_dviz['EMPLOYER_NAME'].str.contains('palantir'))\n",
    "# print(len(h1b_dviz.iloc[llp_group].EMPLOYER_NAME.unique()))\n",
    "# h1b_dviz.iloc[llp_group]#.shape\n",
    "\n",
    "# # h1b_dviz.iloc[llp_group].EMPLOYER_NAME.unique()\n"
   ]
  },
  {
   "cell_type": "code",
   "execution_count": null,
   "metadata": {},
   "outputs": [],
   "source": []
  },
  {
   "cell_type": "code",
   "execution_count": null,
   "metadata": {},
   "outputs": [],
   "source": []
  },
  {
   "cell_type": "code",
   "execution_count": null,
   "metadata": {},
   "outputs": [],
   "source": []
  },
  {
   "cell_type": "code",
   "execution_count": null,
   "metadata": {},
   "outputs": [],
   "source": []
  },
  {
   "cell_type": "markdown",
   "metadata": {},
   "source": [
    "### Top 50/100 covers over 90% of the dataset."
   ]
  },
  {
   "cell_type": "code",
   "execution_count": null,
   "metadata": {},
   "outputs": [],
   "source": [
    "total_row = h1b_dviz.shape[0]"
   ]
  },
  {
   "cell_type": "code",
   "execution_count": null,
   "metadata": {},
   "outputs": [],
   "source": [
    "top_50 = h1b_dviz.JOB_TITLE.value_counts()[:50]\n",
    "t_ = top_50.sum(axis=0)\n",
    "\n",
    "t_ / total_row"
   ]
  },
  {
   "cell_type": "code",
   "execution_count": null,
   "metadata": {},
   "outputs": [],
   "source": []
  },
  {
   "cell_type": "code",
   "execution_count": null,
   "metadata": {},
   "outputs": [],
   "source": []
  },
  {
   "cell_type": "code",
   "execution_count": null,
   "metadata": {},
   "outputs": [],
   "source": []
  },
  {
   "cell_type": "code",
   "execution_count": null,
   "metadata": {},
   "outputs": [],
   "source": []
  },
  {
   "cell_type": "code",
   "execution_count": null,
   "metadata": {},
   "outputs": [],
   "source": []
  },
  {
   "cell_type": "code",
   "execution_count": null,
   "metadata": {},
   "outputs": [],
   "source": []
  },
  {
   "cell_type": "code",
   "execution_count": null,
   "metadata": {},
   "outputs": [],
   "source": []
  },
  {
   "cell_type": "code",
   "execution_count": null,
   "metadata": {},
   "outputs": [],
   "source": [
    "h1b_dviz['SOC_NAME'].value_counts()"
   ]
  },
  {
   "cell_type": "code",
   "execution_count": null,
   "metadata": {},
   "outputs": [],
   "source": []
  },
  {
   "cell_type": "code",
   "execution_count": null,
   "metadata": {},
   "outputs": [],
   "source": []
  },
  {
   "cell_type": "markdown",
   "metadata": {},
   "source": [
    "**Note**: We can also see that \n",
    "\n",
    "\n",
    "feature selectionGoing through all the categorical and object columns, we can see that most of columns have 100 or less unique values. Some columns however have hundreds of unique values. The presence of hundreds of unique values will later affect our machine learning models to generalize, leading to serious overfitting issues. Therefore we need to conduct ***feature selection***. According to ths [paper](https://bdataanalytics.biomedcentral.com/articles/10.1186/s41044-016-0014-0) on big data preprocessing, feature selection is \"the process of identifying and removing as much irrelevant and redundant information as possible\". (See also this [original Hall paper](https://www.lri.fr/~pierres/donn%E9es/save/these/articles/lpr-queue/hall99correlationbased.pdf))"
   ]
  },
  {
   "cell_type": "code",
   "execution_count": null,
   "metadata": {},
   "outputs": [],
   "source": []
  },
  {
   "cell_type": "code",
   "execution_count": null,
   "metadata": {},
   "outputs": [],
   "source": []
  },
  {
   "cell_type": "code",
   "execution_count": null,
   "metadata": {},
   "outputs": [],
   "source": [
    "h1b_dviz.NAICS_CODE.value_counts().head(60).sum(axis=0)"
   ]
  },
  {
   "cell_type": "code",
   "execution_count": null,
   "metadata": {},
   "outputs": [],
   "source": [
    "446614/ total_row"
   ]
  },
  {
   "cell_type": "code",
   "execution_count": null,
   "metadata": {},
   "outputs": [],
   "source": []
  },
  {
   "cell_type": "code",
   "execution_count": null,
   "metadata": {},
   "outputs": [],
   "source": []
  },
  {
   "cell_type": "code",
   "execution_count": null,
   "metadata": {},
   "outputs": [],
   "source": []
  },
  {
   "cell_type": "code",
   "execution_count": null,
   "metadata": {},
   "outputs": [],
   "source": []
  },
  {
   "cell_type": "code",
   "execution_count": null,
   "metadata": {},
   "outputs": [],
   "source": []
  },
  {
   "cell_type": "code",
   "execution_count": null,
   "metadata": {},
   "outputs": [],
   "source": [
    "pandas_data_fram_name.resample('D', on = 'DATE').sum()"
   ]
  },
  {
   "cell_type": "markdown",
   "metadata": {},
   "source": [
    "Going through all the categorical and object columns, we can see that most of columns have 100 or less unique values. Some columns however have hundreds of unique values. The presence of hundreds of unique values will later affect our machine learning models to generalize, leading to serious overfitting issues. Therefore we need to conduct ***feature selection***. According to ths [paper](https://bdataanalytics.biomedcentral.com/articles/10.1186/s41044-016-0014-0) on big data preprocessing, feature selection is \"the process of identifying and removing as much irrelevant and redundant information as possible\". (See also this [original Hall paper](https://www.lri.fr/~pierres/donn%E9es/save/these/articles/lpr-queue/hall99correlationbased.pdf))"
   ]
  },
  {
   "cell_type": "code",
   "execution_count": null,
   "metadata": {},
   "outputs": [],
   "source": [
    "a_ = h1b_dviz.resample('Y', on='EMPLOYMENT_START_DATE').count()"
   ]
  },
  {
   "cell_type": "code",
   "execution_count": null,
   "metadata": {},
   "outputs": [],
   "source": []
  },
  {
   "cell_type": "code",
   "execution_count": null,
   "metadata": {},
   "outputs": [],
   "source": []
  },
  {
   "cell_type": "code",
   "execution_count": null,
   "metadata": {},
   "outputs": [],
   "source": [
    "# h1b_ml.info(memory_usage='deep')"
   ]
  },
  {
   "cell_type": "code",
   "execution_count": null,
   "metadata": {},
   "outputs": [],
   "source": []
  },
  {
   "cell_type": "code",
   "execution_count": null,
   "metadata": {},
   "outputs": [],
   "source": []
  },
  {
   "cell_type": "code",
   "execution_count": null,
   "metadata": {},
   "outputs": [],
   "source": []
  },
  {
   "cell_type": "code",
   "execution_count": null,
   "metadata": {},
   "outputs": [],
   "source": []
  },
  {
   "cell_type": "code",
   "execution_count": null,
   "metadata": {},
   "outputs": [],
   "source": []
  },
  {
   "cell_type": "code",
   "execution_count": null,
   "metadata": {},
   "outputs": [],
   "source": []
  },
  {
   "cell_type": "code",
   "execution_count": null,
   "metadata": {},
   "outputs": [],
   "source": []
  },
  {
   "cell_type": "code",
   "execution_count": null,
   "metadata": {},
   "outputs": [],
   "source": []
  },
  {
   "cell_type": "code",
   "execution_count": null,
   "metadata": {},
   "outputs": [],
   "source": []
  },
  {
   "cell_type": "code",
   "execution_count": null,
   "metadata": {},
   "outputs": [],
   "source": []
  },
  {
   "cell_type": "code",
   "execution_count": null,
   "metadata": {},
   "outputs": [],
   "source": []
  },
  {
   "cell_type": "code",
   "execution_count": null,
   "metadata": {},
   "outputs": [],
   "source": []
  },
  {
   "cell_type": "code",
   "execution_count": null,
   "metadata": {},
   "outputs": [],
   "source": []
  },
  {
   "cell_type": "markdown",
   "metadata": {},
   "source": [
    "<a id='Downsampling Data'></a>\n",
    "____\n",
    "### 2. Downsampling the Dataset\n",
    "\n",
    "Our final objective for this project is to correctly predict which applicants will have their visas approved. In essence, our target variable is the `CASE_STATUS` column. However, as you can see from the bar graph below, we currently have a class imbalance problem. The number of approved cases far outweight the number of denied cases. \n"
   ]
  },
  {
   "cell_type": "code",
   "execution_count": null,
   "metadata": {},
   "outputs": [],
   "source": []
  },
  {
   "cell_type": "code",
   "execution_count": null,
   "metadata": {},
   "outputs": [],
   "source": [
    "g = sns.countplot('CASE_STATUS', data=h1b_df)\n",
    "g.set_ylabel(\"Counts\")\n",
    "g.set_title(\"Number of counts by Visa Case Status\")\n",
    "plt.show()"
   ]
  },
  {
   "cell_type": "code",
   "execution_count": null,
   "metadata": {},
   "outputs": [],
   "source": [
    "certified_rows = h1b_df[h1b_df.CASE_STATUS=='CERTIFIED'].shape[0]\n",
    "denied_rows = h1b_df[h1b_df.CASE_STATUS=='DENIED'].shape[0]\n",
    "print(\"There are {:0.3f}x more certified cases than denied cases in this dataset.\".format(certified_rows/denied_rows))\n",
    "      "
   ]
  },
  {
   "cell_type": "markdown",
   "metadata": {},
   "source": [
    "In fact the difference between the positive class and the negative class is nearly 68 times!"
   ]
  },
  {
   "cell_type": "code",
   "execution_count": null,
   "metadata": {},
   "outputs": [],
   "source": [
    "\n"
   ]
  },
  {
   "cell_type": "code",
   "execution_count": null,
   "metadata": {},
   "outputs": [],
   "source": []
  },
  {
   "cell_type": "code",
   "execution_count": null,
   "metadata": {},
   "outputs": [],
   "source": [
    "h1b_df.CASE_STATUS.value_counts()"
   ]
  },
  {
   "cell_type": "code",
   "execution_count": null,
   "metadata": {},
   "outputs": [],
   "source": [
    "accepted = h1b_df[h1b_df.CASE_STATUS=='CERTIFIED']\n",
    "certified_df = pd.DataFrame(accepted.EMPLOYER_STATE_MAPPED.value_counts(normalize=True))\n",
    "certified_df.head()"
   ]
  },
  {
   "cell_type": "code",
   "execution_count": null,
   "metadata": {},
   "outputs": [],
   "source": [
    "\n",
    "print(\"Percentage: {:3f}%\".format(denied.shape[0]/accepted.shape[0] * 100)) \n",
    "\n"
   ]
  },
  {
   "cell_type": "code",
   "execution_count": null,
   "metadata": {},
   "outputs": [],
   "source": []
  },
  {
   "cell_type": "code",
   "execution_count": null,
   "metadata": {},
   "outputs": [],
   "source": [
    "denied = h1b_df[h1b_df.CASE_STATUS=='DENIED']\n",
    "denied_df = pd.DataFrame(a.EMPLOYER_STATE_MAPPED.value_counts(normalize=True))\n",
    "# sns.countplot('EMPLOYER_STATE_MAPPED', data=t_)\n",
    "denied_df.head()\n"
   ]
  },
  {
   "cell_type": "code",
   "execution_count": null,
   "metadata": {},
   "outputs": [],
   "source": []
  },
  {
   "cell_type": "code",
   "execution_count": null,
   "metadata": {},
   "outputs": [],
   "source": []
  },
  {
   "cell_type": "code",
   "execution_count": null,
   "metadata": {},
   "outputs": [],
   "source": []
  },
  {
   "cell_type": "code",
   "execution_count": null,
   "metadata": {},
   "outputs": [],
   "source": []
  },
  {
   "cell_type": "code",
   "execution_count": null,
   "metadata": {},
   "outputs": [],
   "source": []
  },
  {
   "cell_type": "code",
   "execution_count": null,
   "metadata": {},
   "outputs": [],
   "source": []
  },
  {
   "cell_type": "code",
   "execution_count": null,
   "metadata": {},
   "outputs": [],
   "source": []
  },
  {
   "cell_type": "code",
   "execution_count": null,
   "metadata": {},
   "outputs": [],
   "source": []
  },
  {
   "cell_type": "code",
   "execution_count": null,
   "metadata": {},
   "outputs": [],
   "source": []
  },
  {
   "cell_type": "code",
   "execution_count": null,
   "metadata": {},
   "outputs": [],
   "source": []
  },
  {
   "cell_type": "markdown",
   "metadata": {},
   "source": [
    "<a id='Interactivity Introduction'></a>\n",
    "____\n",
    "### 2. Introducing Interactivity with Plotly and ipywidgets\n",
    "\n",
    "**Background:**  \n",
    "Standalone visualization libraries such as matplotlib and seaborn are great tools but their static nature brings us  some limitations to the fundamentals of data exploration - exploring the given dataset with relative ease. Traditionally, to explore a given dataset, the user must tweak a particular variable and rerun the code. This not only poses a space constraint on your Jupyter Notebook due to the addition of another graph, but also prevents the user from gaining quick meaningful insights from the dataset. \n",
    "\n",
    "Interactivity can solve this issue as the user can tweak variables \"on the fly\" and make quick informed decisions. `Plotly` is a great library that allows for this interactivity feature. I will also be using `ipywidgets` - which is an interactivity tool for Jupyter Notebooks - to provide a better interactive experience for the data consumer. \n",
    "\n",
    "Of course, `plotly` and `ipywidgets` are not \"one all be all\" packages. I believe these packages are complementary - NOT substitutory - to existing libraries such as `matplotlib` and `seaborn`. Using interactivity, I will be able to quickly determine which variables are of interest. Armed with that knowledge I will be able to dive deeper into key variables using `matplotlib` and `seaborn`.\n"
   ]
  },
  {
   "cell_type": "code",
   "execution_count": null,
   "metadata": {},
   "outputs": [],
   "source": []
  },
  {
   "cell_type": "markdown",
   "metadata": {},
   "source": [
    "**A. Import necessary libraries / packages**"
   ]
  },
  {
   "cell_type": "code",
   "execution_count": null,
   "metadata": {},
   "outputs": [],
   "source": [
    "from IPython.display import Image, display, HTML\n",
    "import ipywidgets as widgets\n",
    "from ipywidgets import interact, interact_manual\n",
    "import plotly\n",
    "import plotly.graph_objects as go\n",
    "# import plotly.express as px  # px only works with tidy datasets"
   ]
  },
  {
   "cell_type": "markdown",
   "metadata": {},
   "source": [
    "**9/22/19 NOTE:**   \n",
    "Currently *plotly==4.1.1* doesn't seem to render the graphs in Jupyter Notebook ***(fig.show() does not work)***\n",
    "\n",
    "- Must run plotly==4.1.0\n"
   ]
  },
  {
   "cell_type": "code",
   "execution_count": null,
   "metadata": {},
   "outputs": [],
   "source": [
    "# # Check plotly version\n",
    "print(plotly.__version__)"
   ]
  },
  {
   "cell_type": "markdown",
   "metadata": {},
   "source": [
    "**B. ipywidgets Interactivity Example: Investigate the dataset - describe() each column**\n",
    "\n",
    "**Purpose:** Describe a column of your choosing."
   ]
  },
  {
   "cell_type": "code",
   "execution_count": null,
   "metadata": {},
   "outputs": [],
   "source": [
    "@interact\n",
    "def describe(column=list(h1b_df.columns)):\n",
    "    print(h1b_df[column].describe())"
   ]
  },
  {
   "cell_type": "markdown",
   "metadata": {},
   "source": [
    "**C. ipywidgets Interactivity Example: - Correlation between each columns**\n",
    "\n",
    "**Purpose:** This interactive cell lets us find correlations between columns.\n",
    "\n",
    "- Unfortunately, correlation values only exist for numeric values. Therefore we can only compute correlation values between numeric columns. Within the dataset however, there are numeric columns that code for other categorical values *((ex) NAICS CODE)*. Therefore we must be careful to analyze only the columns with true numeric characteristics. \n",
    "\n",
    "- Also note that certain columns are redundant/derived from a different column. For example, `WAGE_FROM_YEARLY_CONVERTED` is normalized from `WAGE_RATE_OF_PAY_FROM`"
   ]
  },
  {
   "cell_type": "code",
   "execution_count": null,
   "metadata": {},
   "outputs": [],
   "source": [
    "@interact\n",
    "def correlations(column1=list(h1b_df.select_dtypes('number').columns), \n",
    "                 column2=list(h1b_df.select_dtypes('number').columns)):\n",
    "    print(f\"Correlation: {h1b_df[column1].corr(h1b_df[column2])}\")"
   ]
  },
  {
   "cell_type": "markdown",
   "metadata": {},
   "source": [
    "<a href='#Table of Contents'>Table of Contents</a>"
   ]
  },
  {
   "cell_type": "markdown",
   "metadata": {},
   "source": [
    "<a id='Univariate Data'></a>\n",
    "____\n",
    "### 3. Univariate Bar Graphs\n",
    "\n",
    "Now that we've explored the capabilities of `ipywidgets` and how interactive Jupyter Notebook can be, lets combine `plotly`'s graphing capabilities to this interactivity. As a start, I will be plotting a univariate bar graph of the counts of each column. I will plot only columns with less than 100 unique values since anything more than that will hamper our ability to interpret data and also cause our computer memory to crash. \n"
   ]
  },
  {
   "cell_type": "markdown",
   "metadata": {},
   "source": [
    "**A. Univariate Bar Graphs**\n",
    "1. With a custom function, filter out 'category' or 'object' columns with less than 100 unique values\n",
    "2. Create bar graphs of those columns Using `ipywidgets` and `plotly`"
   ]
  },
  {
   "cell_type": "code",
   "execution_count": null,
   "metadata": {},
   "outputs": [],
   "source": [
    "# # Filtering out columns with only less than 100 unique values\n",
    "string_cols = list(h1b_dviz.select_dtypes(include=['category','object']).columns)\n",
    "\n",
    "less_than_100_list = []\n",
    "for col in string_cols:\n",
    "    num_unique_values = len(h1b_dviz[col].unique())\n",
    "\n",
    "    if num_unique_values < 100:  # threshold = 50%\n",
    "        less_than_100_list.append(col)\n",
    "\n",
    "len(less_than_100_list)"
   ]
  },
  {
   "cell_type": "code",
   "execution_count": null,
   "metadata": {},
   "outputs": [],
   "source": [
    "@interact\n",
    "def bar_plot(x=less_than_100_list):\n",
    "    \n",
    "    fig = go.Figure([go.Bar(x=h1b_df[x].unique(), y=h1b_df[x].value_counts(), text=h1b_df[x].value_counts(), textposition='auto')])\n",
    "    fig.update_layout(title=\"Counts of '\" + x + \"' Column\", \n",
    "                        yaxis=dict(title='Counts',\n",
    "                                   titlefont_size=16,\n",
    "                                   tickfont_size=12),\n",
    "                        xaxis=dict(title=x, titlefont_size=14))\n",
    "    \n",
    "    fig.show()"
   ]
  },
  {
   "cell_type": "code",
   "execution_count": null,
   "metadata": {},
   "outputs": [],
   "source": []
  },
  {
   "cell_type": "code",
   "execution_count": null,
   "metadata": {},
   "outputs": [],
   "source": []
  },
  {
   "cell_type": "markdown",
   "metadata": {},
   "source": [
    "<a id='Bivariate Data'></a>\n",
    "____\n",
    "### 4. Bivariate Scatter Plots\n",
    "\n",
    "Edit Edit Eidt"
   ]
  },
  {
   "cell_type": "code",
   "execution_count": null,
   "metadata": {},
   "outputs": [],
   "source": [
    "h1b_df.select_dtypes('number').columns"
   ]
  },
  {
   "cell_type": "code",
   "execution_count": null,
   "metadata": {},
   "outputs": [],
   "source": [
    "h1b_df.PW_YEARLY_CONVERTED.values"
   ]
  },
  {
   "cell_type": "code",
   "execution_count": null,
   "metadata": {},
   "outputs": [],
   "source": []
  },
  {
   "cell_type": "code",
   "execution_count": null,
   "metadata": {},
   "outputs": [],
   "source": [
    "x = h1b_df.WAGE_FROM_YEARLY_CONVERTED.values\n",
    "y = h1b_df.WAGE_TO_YEARLY_CONVERTED.values"
   ]
  },
  {
   "cell_type": "code",
   "execution_count": null,
   "metadata": {},
   "outputs": [],
   "source": [
    "fig = go.Figure(data=go.Scattergl(x=x, y=y, mode='markers'))\n",
    "\n",
    "fig.show()"
   ]
  },
  {
   "cell_type": "code",
   "execution_count": null,
   "metadata": {},
   "outputs": [],
   "source": []
  },
  {
   "cell_type": "code",
   "execution_count": null,
   "metadata": {},
   "outputs": [],
   "source": [
    "@interact\n",
    "def scatter_plot(x=list(h1b_df.select_dtypes('number').columns.values), \n",
    "                 y=list(h1b_df.select_dtypes('number').columns.values):\n",
    "    \n",
    "    fig = go.Figure(data=go.Scatter(x=x, y=y, mode='markers'))\n",
    "\n",
    "    fig.show()"
   ]
  },
  {
   "cell_type": "code",
   "execution_count": null,
   "metadata": {},
   "outputs": [],
   "source": [
    "fig = go.Figure(data=go.Scatter(x=t, y=y, mode='markers'))\n",
    "\n",
    "fig.show()"
   ]
  },
  {
   "cell_type": "code",
   "execution_count": null,
   "metadata": {},
   "outputs": [],
   "source": []
  },
  {
   "cell_type": "code",
   "execution_count": null,
   "metadata": {},
   "outputs": [],
   "source": [
    "print(h1b_df.TOTAL_WORKERS.sum(axis=0))#['CONTINUED_EMPLOYMENT'].sum()\n",
    "h1b_df.shape"
   ]
  },
  {
   "cell_type": "code",
   "execution_count": null,
   "metadata": {},
   "outputs": [],
   "source": [
    "# h1b_df[h1b_df.EMPLOYER_NAME == 'MICROSOFT CORPORATION']#['CONTINUED_EMPLOYMENT'].sum()"
   ]
  },
  {
   "cell_type": "code",
   "execution_count": null,
   "metadata": {},
   "outputs": [],
   "source": [
    "grouped = h1b_df[['CASE_NUMBER','VISA_CLASS','EMPLOYER_NAME','TOTAL_WORKERS']].groupby('EMPLOYER_NAME').count().reset_index()\n",
    "grouped.sort_values(by='TOTAL_WORKERS', ascending=False)\n",
    "\n"
   ]
  },
  {
   "cell_type": "code",
   "execution_count": null,
   "metadata": {},
   "outputs": [],
   "source": [
    "pd.set_option('display.max_columns', 500)\n",
    "h1b_df.head()"
   ]
  },
  {
   "cell_type": "code",
   "execution_count": null,
   "metadata": {},
   "outputs": [],
   "source": [
    "h1b_df.loc[:,['TOTAL_WORKERS','NEW_EMPLOYMENT']].head()"
   ]
  },
  {
   "cell_type": "code",
   "execution_count": null,
   "metadata": {},
   "outputs": [],
   "source": []
  },
  {
   "cell_type": "code",
   "execution_count": null,
   "metadata": {},
   "outputs": [],
   "source": [
    "h1b_df.select_dtypes('number').head(10)"
   ]
  },
  {
   "cell_type": "code",
   "execution_count": null,
   "metadata": {},
   "outputs": [],
   "source": [
    "# fig = go.Figure(data=go.Scatter(x=t, y=y, mode='markers'))\n",
    "\n",
    "list(h1b_df.select_dtypes('number').columns)"
   ]
  },
  {
   "cell_type": "code",
   "execution_count": null,
   "metadata": {},
   "outputs": [],
   "source": [
    "@interact\n",
    "def scatter_plot(x=list(h1b_df.select_dtypes('number').columns), \n",
    "                 y=list(h1b_df.select_dtypes('number').columns)[1:]):\n",
    "\n",
    "    fig = go.Figure(data=go.Scatter(x=x, y=y, mode='lines+markers'))\n",
    "    fig.show()\n",
    "#     df.iplot(kind='scatter', x=x, y=y, mode='markers', \n",
    "#              xTitle=x.title(), yTitle=y.title(), title=f'{y.title()} vs {x.title()}')"
   ]
  },
  {
   "cell_type": "code",
   "execution_count": null,
   "metadata": {},
   "outputs": [],
   "source": [
    "fig = go.Figure([go.Bar(x=h1b_df[x].unique(), y=h1b_df[x].value_counts(), text=h1b_df[x].value_counts(), textposition='auto')])\n",
    "    fig.update_layout(title=\"Counts of '\" + x + \"' Column\", \n",
    "                        yaxis=dict(title='Counts',\n",
    "                                   titlefont_size=16,\n",
    "                                   tickfont_size=12),\n",
    "                        xaxis=dict(title=x, titlefont_size=14))\n",
    "    fig.show()"
   ]
  },
  {
   "cell_type": "code",
   "execution_count": null,
   "metadata": {},
   "outputs": [],
   "source": []
  },
  {
   "cell_type": "code",
   "execution_count": null,
   "metadata": {},
   "outputs": [],
   "source": []
  },
  {
   "cell_type": "code",
   "execution_count": null,
   "metadata": {},
   "outputs": [],
   "source": []
  },
  {
   "cell_type": "code",
   "execution_count": null,
   "metadata": {},
   "outputs": [],
   "source": []
  },
  {
   "cell_type": "code",
   "execution_count": null,
   "metadata": {},
   "outputs": [],
   "source": [
    "@interact\n",
    "def show_articles_more_than(x=(5, 200000, 10), column=list(h1b_df.select_dtypes('number').columns),):\n",
    "    display(HTML(f'<h2>Showing rows with more than {x} {column}<h3>'))\n",
    "    display(h1b_df.loc[h1b_df[column] > x, list(h1b_df.columns)])"
   ]
  },
  {
   "cell_type": "code",
   "execution_count": null,
   "metadata": {},
   "outputs": [],
   "source": []
  },
  {
   "cell_type": "code",
   "execution_count": null,
   "metadata": {},
   "outputs": [],
   "source": []
  },
  {
   "cell_type": "code",
   "execution_count": null,
   "metadata": {},
   "outputs": [],
   "source": []
  },
  {
   "cell_type": "code",
   "execution_count": null,
   "metadata": {},
   "outputs": [],
   "source": []
  },
  {
   "cell_type": "code",
   "execution_count": null,
   "metadata": {},
   "outputs": [],
   "source": [
    "h1b_df.VISA_CLASS.value_counts().plot(kind='bar')"
   ]
  },
  {
   "cell_type": "code",
   "execution_count": null,
   "metadata": {},
   "outputs": [],
   "source": []
  },
  {
   "cell_type": "code",
   "execution_count": null,
   "metadata": {},
   "outputs": [],
   "source": [
    "fig = go.Figure([go.Bar(x=h1b_df.VISA_CLASS.unique(), y=np.log(h1b_df.VISA_CLASS.value_counts()))])\n",
    "fig.show()"
   ]
  },
  {
   "cell_type": "code",
   "execution_count": null,
   "metadata": {},
   "outputs": [],
   "source": [
    "@interact\n",
    "def correlations(column1=list(h1b_df.select_dtypes('number').columns), \n",
    "                 column2=list(h1b_df.select_dtypes('number').columns)):\n",
    "    print(f\"Correlation: {h1b_df[column1].corr(h1b_df[column2])}\")"
   ]
  },
  {
   "cell_type": "code",
   "execution_count": null,
   "metadata": {},
   "outputs": [],
   "source": [
    "@interact\n",
    "def bar_plot(x=list(h1b_df.select_dtypes('category').columns), \n",
    "             y=list(h1b_df.select_dtypes('category').columns)[1:]):\n",
    "    "
   ]
  },
  {
   "cell_type": "code",
   "execution_count": null,
   "metadata": {},
   "outputs": [],
   "source": []
  },
  {
   "cell_type": "code",
   "execution_count": null,
   "metadata": {},
   "outputs": [],
   "source": [
    "@interact\n",
    "def bar_plot(x=list(h1b_df.select_dtypes(include=['category','object']).columns)):\n",
    "    \n",
    "    fig = go.Figure([go.Bar(x=h1b_df[x].unique(), y=h1b_df[x].value_counts())])\n",
    "    fig.show()\n",
    "#                         df.iplot(kind='scatter', x=x, y=y, mode='markers', \n",
    "#              xTitle=x.title(), yTitle=y.title(), title=f'{y.title()} vs {x.title()}')    "
   ]
  },
  {
   "cell_type": "code",
   "execution_count": null,
   "metadata": {},
   "outputs": [],
   "source": []
  },
  {
   "cell_type": "code",
   "execution_count": null,
   "metadata": {},
   "outputs": [],
   "source": []
  },
  {
   "cell_type": "markdown",
   "metadata": {},
   "source": [
    "<a id='Import Dataset'></a>\n",
    "____\n",
    "### 2. EDIT EDIT\n",
    "\n",
    "ipsi lorenti edit plz Using the cleaned parameters saved in JSON format, we will load in the cleaned dataset that was saved from the previous notebook. \n"
   ]
  }
 ],
 "metadata": {
  "kernelspec": {
   "display_name": "Python 3",
   "language": "python",
   "name": "python3"
  },
  "language_info": {
   "codemirror_mode": {
    "name": "ipython",
    "version": 3
   },
   "file_extension": ".py",
   "mimetype": "text/x-python",
   "name": "python",
   "nbconvert_exporter": "python",
   "pygments_lexer": "ipython3",
   "version": "3.6.8"
  }
 },
 "nbformat": 4,
 "nbformat_minor": 2
}
